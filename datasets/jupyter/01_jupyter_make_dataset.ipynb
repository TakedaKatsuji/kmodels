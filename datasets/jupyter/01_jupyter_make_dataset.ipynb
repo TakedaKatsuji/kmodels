{
 "cells": [
  {
   "cell_type": "code",
   "execution_count": 21,
   "metadata": {},
   "outputs": [],
   "source": [
    "import polars as pl\n",
    "from glob import glob\n",
    "import os \n",
    "from os.path import join, exists, splitext, abspath\n",
    "from pathlib import Path\n",
    "import pandas as pd\n",
    "import re\n",
    "from shutil import copy"
   ]
  },
  {
   "cell_type": "code",
   "execution_count": 2,
   "metadata": {},
   "outputs": [
    {
     "data": {
      "text/plain": [
       "True"
      ]
     },
     "execution_count": 2,
     "metadata": {},
     "output_type": "execute_result"
    }
   ],
   "source": [
    "ROOTDIR = \"../COVID-CT\"\n",
    "exists(ROOTDIR)"
   ]
  },
  {
   "cell_type": "markdown",
   "metadata": {},
   "source": [
    "# csvの作成\n",
    "1 -> covid  \n",
    "0 -> non covid"
   ]
  },
  {
   "cell_type": "code",
   "execution_count": 22,
   "metadata": {},
   "outputs": [],
   "source": [
    "covid_df = pd.read_excel(join(ROOTDIR, \"COVID-CT-MetaInfo.xlsx\"))\n",
    "non_df = pd.read_csv(join(ROOTDIR, \"NonCOVID-CT-MetaInfo.csv\"))"
   ]
  },
  {
   "cell_type": "code",
   "execution_count": 23,
   "metadata": {},
   "outputs": [],
   "source": [
    "covid_file_name_list  = pl.DataFrame(covid_df[[\"File name\"]].dropna()).to_series().to_list()\n",
    "non_file_name_list  = pl.DataFrame(non_df[[\"image name\"]].dropna()).to_series().to_list()\n"
   ]
  },
  {
   "cell_type": "code",
   "execution_count": 24,
   "metadata": {},
   "outputs": [],
   "source": [
    "covid_df_with_label = pl.DataFrame([covid_file_name_list, [1 for i in range(len(covid_file_name_list))]], [\"file_name\", \"target\"])\n",
    "non_df_with_label = pl.DataFrame([non_file_name_list, [0 for i in range(len(non_file_name_list))]], [\"file_name\", \"target\"])\n"
   ]
  },
  {
   "cell_type": "code",
   "execution_count": 25,
   "metadata": {},
   "outputs": [],
   "source": [
    "covid_df_with_label = covid_df_with_label.with_columns(file_name = pl.when(pl.col(\"file_name\").str.contains(\".png\")).then(pl.col(\"file_name\")).otherwise(pl.col(\"file_name\")+\".png\"))"
   ]
  },
  {
   "cell_type": "code",
   "execution_count": 26,
   "metadata": {},
   "outputs": [],
   "source": [
    "data_df = pl.concat([covid_df_with_label, non_df_with_label], how=\"vertical\")"
   ]
  },
  {
   "cell_type": "code",
   "execution_count": 27,
   "metadata": {},
   "outputs": [],
   "source": [
    "with open(join(ROOTDIR,\"Data-split\", \"COVID\", \"testCT_COVID.txt\"), \"r\") as f:\n",
    "    lines = f.readlines()\n",
    "covid_test = [line.strip() for line in lines]\n",
    "\n",
    "with open(join(ROOTDIR,\"Data-split\", \"COVID\", \"trainCT_COVID.txt\"), \"r\") as f:\n",
    "    lines = f.readlines()\n",
    "covid_train = [line.strip() for line in lines]\n",
    "\n",
    "with open(join(ROOTDIR,\"Data-split\", \"COVID\", \"valCT_COVID.txt\"), \"r\") as f:\n",
    "    lines = f.readlines()\n",
    "covid_val = [line.strip() for line in lines]\n",
    "\n",
    "with open(join(ROOTDIR,\"Data-split\", \"NonCOVID\", \"testCT_NonCOVID.txt\"), \"r\") as f:\n",
    "    lines = f.readlines()\n",
    "non_test = [line.strip() for line in lines]\n",
    "\n",
    "with open(join(ROOTDIR,\"Data-split\", \"NonCOVID\", \"trainCT_NonCOVID.txt\"), \"r\") as f:\n",
    "    lines = f.readlines()\n",
    "non_train = [line.strip() for line in lines]\n",
    "\n",
    "with open(join(ROOTDIR,\"Data-split\", \"NonCOVID\", \"valCT_NonCOVID.txt\"), \"r\") as f:\n",
    "    lines = f.readlines()\n",
    "non_val = [line.strip() for line in lines]\n"
   ]
  },
  {
   "cell_type": "code",
   "execution_count": 28,
   "metadata": {},
   "outputs": [],
   "source": [
    "test_file_name_list = covid_test + non_test\n",
    "train_file_name_list = covid_train + non_train\n",
    "val_file_name_list = covid_val + non_val"
   ]
  },
  {
   "cell_type": "code",
   "execution_count": 29,
   "metadata": {},
   "outputs": [],
   "source": [
    "def get_mode(file_name: str)->str:\n",
    "    if file_name in train_file_name_list:\n",
    "        return \"train\"\n",
    "    elif file_name in test_file_name_list:\n",
    "        return \"test\"\n",
    "    elif file_name in val_file_name_list:\n",
    "        return \"val\"\n",
    "    else:\n",
    "        return \"no_mode\""
   ]
  },
  {
   "cell_type": "code",
   "execution_count": 30,
   "metadata": {},
   "outputs": [],
   "source": [
    "data_df = data_df.with_columns(mode=pl.col(\"file_name\").map_elements(lambda x: get_mode(x)))"
   ]
  },
  {
   "cell_type": "code",
   "execution_count": 31,
   "metadata": {},
   "outputs": [],
   "source": [
    "data_df = data_df.with_columns(\n",
    "    path = pl.when(\n",
    "        pl.col(\"target\")==1) \\\n",
    "            .then(join(ROOTDIR, \"Images-processed\", \"CT_COVID/\")+pl.col(\"file_name\")) \\\n",
    "            .otherwise(join(ROOTDIR, \"Images-processed\", \"CT_NonCOVID/\")+pl.col(\"file_name\"))\n",
    "            )"
   ]
  },
  {
   "cell_type": "code",
   "execution_count": 32,
   "metadata": {},
   "outputs": [],
   "source": [
    "for path in data_df[\"path\"].to_list():\n",
    "    if exists(path)==False:\n",
    "        print(path)"
   ]
  },
  {
   "cell_type": "code",
   "execution_count": 33,
   "metadata": {},
   "outputs": [],
   "source": [
    "names = []\n",
    "for path in data_df[\"path\"].to_list():\n",
    "    name = Path(path).name\n",
    "    names.append(name)"
   ]
  },
  {
   "cell_type": "code",
   "execution_count": 34,
   "metadata": {},
   "outputs": [
    {
     "data": {
      "text/plain": [
       "(746, 746)"
      ]
     },
     "execution_count": 34,
     "metadata": {},
     "output_type": "execute_result"
    }
   ],
   "source": [
    "len(names), len(set(names))"
   ]
  },
  {
   "cell_type": "code",
   "execution_count": 35,
   "metadata": {},
   "outputs": [],
   "source": [
    "for path in data_df[\"path\"].to_list():\n",
    "    new_path = path.replace(\"COVID-CT/Images-processed/CT_COVID\", \"COVID/images\").replace(\"COVID-CT/Images-processed/CT_NonCOVID\", \"COVID/images\")\n",
    "    copy(src=path, dst=new_path)"
   ]
  },
  {
   "cell_type": "code",
   "execution_count": 36,
   "metadata": {},
   "outputs": [],
   "source": [
    "data_df = data_df.with_columns(new_path=pl.col(\"path\").map_elements(\n",
    "    lambda x: abspath(x.replace(\"COVID-CT/Images-processed/CT_COVID\", \"COVID/images\").replace(\"COVID-CT/Images-processed/CT_NonCOVID\", \"COVID/images\"))))"
   ]
  },
  {
   "cell_type": "code",
   "execution_count": 37,
   "metadata": {},
   "outputs": [],
   "source": [
    "data_df = data_df.drop(\"path\").with_columns(pl.col(\"new_path\").alias(\"path\")).drop(\"new_path\")\n"
   ]
  },
  {
   "cell_type": "code",
   "execution_count": 38,
   "metadata": {},
   "outputs": [],
   "source": [
    "for path in data_df[\"path\"].to_list():\n",
    "    if exists(path)==False:\n",
    "        print(path)"
   ]
  },
  {
   "cell_type": "code",
   "execution_count": 40,
   "metadata": {},
   "outputs": [],
   "source": [
    "data_df.write_csv(\"../covid_data.csv\")"
   ]
  },
  {
   "cell_type": "code",
   "execution_count": null,
   "metadata": {},
   "outputs": [],
   "source": []
  }
 ],
 "metadata": {
  "kernelspec": {
   "display_name": "kmodels",
   "language": "python",
   "name": "python3"
  },
  "language_info": {
   "codemirror_mode": {
    "name": "ipython",
    "version": 3
   },
   "file_extension": ".py",
   "mimetype": "text/x-python",
   "name": "python",
   "nbconvert_exporter": "python",
   "pygments_lexer": "ipython3",
   "version": "3.10.13"
  }
 },
 "nbformat": 4,
 "nbformat_minor": 2
}
