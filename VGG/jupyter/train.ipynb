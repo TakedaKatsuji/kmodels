{
 "cells": [
  {
   "cell_type": "code",
   "execution_count": 24,
   "metadata": {},
   "outputs": [],
   "source": [
    "import polars as pl\n",
    "import sys\n",
    "sys.path.append(\"../../\")\n",
    "from VGG.dataset import VGGDataset\n",
    "from VGG.model import vgg16\n",
    "from VGG.utils import DataCsvParser\n",
    "from torchvision import transforms\n",
    "import albumentations as A\n",
    "from albumentations.pytorch import ToTensorV2\n",
    "import cv2\n",
    "from pathlib import Path\n",
    "import os\n",
    "from os.path import join\n",
    "from torch.utils.data import DataLoader\n",
    "from glob import glob"
   ]
  },
  {
   "cell_type": "code",
   "execution_count": 47,
   "metadata": {},
   "outputs": [],
   "source": [
    "csv_path= \"../../datasets/COVID/covid_data.csv\""
   ]
  },
  {
   "cell_type": "code",
   "execution_count": 49,
   "metadata": {},
   "outputs": [],
   "source": [
    "df = pl.read_csv(csv_path)\n",
    "df = df.with_columns(\n",
    "    pl.col(\"path\").map_elements(\n",
    "        lambda x: x.replace(\"katsuji/project/\", \"katsujitakeda/project/study/\"),\n",
    "        return_dtype=str\n",
    "    )\n",
    ")\n",
    "df.write_csv(\"../../datasets/COVID/covid_data_ncc.csv\")"
   ]
  },
  {
   "cell_type": "code",
   "execution_count": 50,
   "metadata": {},
   "outputs": [
    {
     "data": {
      "text/plain": [
       "'/home/katsujitakeda/project/study/kmodels/datasets/COVID/images/2020.01.24.919183-p27-132.png'"
      ]
     },
     "execution_count": 50,
     "metadata": {},
     "output_type": "execute_result"
    }
   ],
   "source": [
    "df[\"path\"][0]"
   ]
  },
  {
   "cell_type": "code",
   "execution_count": 51,
   "metadata": {},
   "outputs": [],
   "source": [
    "df = df.with_columns(\n",
    "    pl.Series(range(len(df))).alias(\"new_file_name\").cast(pl.String),\n",
    "    pl.col(\"file_name\").map_elements(lambda x: \".\"+x.split(\".\")[-1], return_dtype=str).alias(\"suffix\"),\n",
    ")"
   ]
  },
  {
   "cell_type": "code",
   "execution_count": 52,
   "metadata": {},
   "outputs": [
    {
     "data": {
      "text/plain": [
       "'/home/katsujitakeda/project/study/kmodels/datasets/COVID/images/0.png'"
      ]
     },
     "execution_count": 52,
     "metadata": {},
     "output_type": "execute_result"
    }
   ],
   "source": [
    "plus = (df[\"path\"].map_elements(lambda x: str(Path(x).parent), return_dtype=str) + \"/\" +df[\"new_file_name\"] + df[\"suffix\"]).alias(\"new_file_path\")\n",
    "plus = pl.DataFrame(plus)\n",
    "plus[0].item()"
   ]
  },
  {
   "cell_type": "code",
   "execution_count": 53,
   "metadata": {},
   "outputs": [],
   "source": [
    "df = pl.concat([df, plus], how=\"horizontal\")"
   ]
  },
  {
   "cell_type": "code",
   "execution_count": 54,
   "metadata": {},
   "outputs": [],
   "source": [
    "data = df[[\"path\", \"new_file_path\"]].to_numpy()"
   ]
  },
  {
   "cell_type": "code",
   "execution_count": 61,
   "metadata": {},
   "outputs": [],
   "source": [
    "for (path, new_path) in data:\n",
    "    if Path(path).exists()==False:\n",
    "        print(path)\n",
    "    os.rename(path, new_path)"
   ]
  },
  {
   "cell_type": "code",
   "execution_count": 59,
   "metadata": {},
   "outputs": [
    {
     "data": {
      "text/plain": [
       "'/home/katsujitakeda/project/study/kmodels/datasets/COVID/images/0.png'"
      ]
     },
     "execution_count": 59,
     "metadata": {},
     "output_type": "execute_result"
    }
   ],
   "source": [
    "df[\"new_file_path\"][0]"
   ]
  },
  {
   "cell_type": "code",
   "execution_count": 60,
   "metadata": {},
   "outputs": [
    {
     "data": {
      "text/plain": [
       "'/home/katsujitakeda/project/study/kmodels/datasets/COVID/images/2020.01.24.919183-p27-132.png'"
      ]
     },
     "execution_count": 60,
     "metadata": {},
     "output_type": "execute_result"
    }
   ],
   "source": [
    "df[\"path\"][0]"
   ]
  },
  {
   "cell_type": "code",
   "execution_count": 67,
   "metadata": {},
   "outputs": [],
   "source": [
    "new_df = df.select(\"new_file_name\", \"target\", \"mode\", \"new_file_path\")\n",
    "new_df.columns = [\"file_name\", \"target\", \"mode\", \"path\"]"
   ]
  },
  {
   "cell_type": "code",
   "execution_count": 15,
   "metadata": {},
   "outputs": [],
   "source": [
    "df = pl.read_csv(\"../../datasets/COVID/covid_data_ncc.csv\")\n",
    "df = df.filter(pl.col(\"file_name\")!=14)\n",
    "df = df.filter(pl.col(\"file_name\")!=15)\n",
    "df.write_csv(\"../../datasets/COVID/covid_data_ncc.csv\")"
   ]
  },
  {
   "cell_type": "code",
   "execution_count": 16,
   "metadata": {},
   "outputs": [],
   "source": [
    "\n",
    "# データ拡張のためのtransformを定義\n",
    "transform = A.Compose([\n",
    "    A.Resize(224,224),  # 64x64にリサイズ\n",
    "    A.Normalize(mean=(0.1307,), std=(0.3081,)),  # 平均と標準偏差で正規化\n",
    "    ToTensorV2()  # テンソルに変換\n",
    "])\n",
    "\n",
    "dataset = VGGDataset(csv_path=\"../../datasets/COVID/covid_data_ncc.csv\", mode=\"train\", transform=transform)"
   ]
  },
  {
   "cell_type": "code",
   "execution_count": 36,
   "metadata": {},
   "outputs": [],
   "source": [
    "csv_name = df[\"file_name\"].to_list()\n",
    "dir_name = [int(Path(path).name.split(\".\")[0]) for path in glob(\"../../datasets/COVID/images/*\")]"
   ]
  },
  {
   "cell_type": "code",
   "execution_count": 55,
   "metadata": {},
   "outputs": [],
   "source": [
    "nums = []\n",
    "for num in csv_name:\n",
    "    if num  in dir_name:\n",
    "        nums.append(num)"
   ]
  },
  {
   "cell_type": "code",
   "execution_count": 57,
   "metadata": {},
   "outputs": [],
   "source": [
    "df.filter(pl.col(\"file_name\").is_in(nums)).write_csv(\"../../datasets/COVID/covid_data_ncc.csv\")"
   ]
  }
 ],
 "metadata": {
  "kernelspec": {
   "display_name": "mlflow",
   "language": "python",
   "name": "python3"
  },
  "language_info": {
   "codemirror_mode": {
    "name": "ipython",
    "version": 3
   },
   "file_extension": ".py",
   "mimetype": "text/x-python",
   "name": "python",
   "nbconvert_exporter": "python",
   "pygments_lexer": "ipython3",
   "version": "3.11.8"
  }
 },
 "nbformat": 4,
 "nbformat_minor": 2
}
