{
 "cells": [
  {
   "cell_type": "markdown",
   "metadata": {},
   "source": [
    "# homography matrix "
   ]
  },
  {
   "cell_type": "code",
   "execution_count": 1,
   "metadata": {},
   "outputs": [],
   "source": [
    "import torch\n",
    "from torch import nn\n",
    "from torch.nn import functional as F\n",
    "import matplotlib.pyplot as plt\n",
    "import cv2\n",
    "from InverseForm import InverseNet\n",
    "from pathlib import Path\n",
    "import numpy as np"
   ]
  },
  {
   "cell_type": "code",
   "execution_count": 2,
   "metadata": {},
   "outputs": [],
   "source": [
    "def plot(image):\n",
    "    image = image.squeeze().detach().numpy()\n",
    "    plt.imshow(image, cmap=\"gray\")\n",
    "    plt.show()"
   ]
  },
  {
   "cell_type": "code",
   "execution_count": 3,
   "metadata": {},
   "outputs": [],
   "source": [
    "label_paths = sorted(list(Path(\"./labels/\").glob(\"*\")))"
   ]
  },
  {
   "cell_type": "code",
   "execution_count": 4,
   "metadata": {},
   "outputs": [],
   "source": [
    "class BADataset(torch.utils.data.Dataset):\n",
    "    def __init__(self, path_list, size=(224,224)):\n",
    "        super().__init__()\n",
    "        self.path_list = path_list\n",
    "        self.size = size\n",
    "    \n",
    "    def load_image(self, path):\n",
    "        image = cv2.imread(path, cv2.IMREAD_GRAYSCALE)\n",
    "        image = cv2.resize(image ,self.size)\n",
    "        image = np.where(image>0, 1, 0)\n",
    "        return image\n",
    "    \n",
    "    def to_tensor(self, image):\n",
    "        image = torch.tensor(image, dtype=torch.float32)\n",
    "        image = image.view(1,*self.size)\n",
    "        return image\n",
    "\n",
    "    def __len__(self):\n",
    "        return len(self.path_list)\n",
    "    \n",
    "    def __getitem__(self, idx):\n",
    "        image_path = self.path_list[idx]\n",
    "        image = self.load_image(image_path)\n",
    "        image = self.to_tensor(image)\n",
    "        return image"
   ]
  },
  {
   "cell_type": "code",
   "execution_count": 5,
   "metadata": {},
   "outputs": [],
   "source": [
    "dataset = BADataset(label_paths)\n",
    "image = dataset[0].squeeze()\n",
    "image = np.array(image)"
   ]
  },
  {
   "cell_type": "code",
   "execution_count": 6,
   "metadata": {},
   "outputs": [],
   "source": [
    "src = np.array([\n",
    "    [1,1],\n",
    "    [4,1],\n",
    "    [4,4],\n",
    "    [1,4]\n",
    "])\n",
    "dst = np.array([\n",
    "    [1,1],\n",
    "    [8,1],\n",
    "    [8,8],\n",
    "    [1,8]\n",
    "])"
   ]
  },
  {
   "cell_type": "code",
   "execution_count": 7,
   "metadata": {},
   "outputs": [],
   "source": [
    "def homography_matrix(src, dst):\n",
    "    X = []\n",
    "    for (x1, y1), (x2, y2) in zip(src, dst):\n",
    "        X.append([x1, y1, 1, 0, 0, 0, -x1*x2, -y1*x2])\n",
    "        X.append([0, 0, 0, x1, y1, 1, -x1*y2, -y1*y2])\n",
    "    X = np.array(X)\n",
    "    y = dst.flatten()\n",
    "\n",
    "    U, S, Vt = np.linalg.svd(X, full_matrices=False)\n",
    "    h = (Vt.T @ np.linalg.pinv(np.diag(S)) @ U.T) @ y\n",
    "    H = np.vstack([h.reshape(-1, 1), 1]).reshape(3,3)\n",
    "    return H\n",
    "\n",
    "def apply_homography_matrix(src, matrix):\n",
    "    src = np.array(src)\n",
    "    dst_est = matrix @ np.vstack([src.reshape(-1, 1), 1])\n",
    "    dst_est = (dst_est/dst_est[-1][0])[:-1]\n",
    "    return dst_est.reshape(-1)\n",
    "    "
   ]
  },
  {
   "cell_type": "code",
   "execution_count": 50,
   "metadata": {},
   "outputs": [
    {
     "data": {
      "image/png": "[encoded data removed]",
      "text/plain": [
       "<Figure size 640x480 with 2 Axes>"
      ]
     },
     "metadata": {},
     "output_type": "display_data"
    }
   ],
   "source": [
    "# 変換前と変換後の対応点\n",
    "# Random source points in the image\n",
    "src_points = np.random.randint(0, 224, (4, 2)).astype(np.float32)\n",
    "\n",
    "# Random destination points in the image\n",
    "dst_points = np.random.randint(0, 224, (4, 2)).astype(np.float32)\n",
    "\n",
    "# ホモグラフィー行列の計算\n",
    "H = homography_matrix(src_points, dst_points)\n",
    "theta = np.deg2rad(10)\n",
    "\n",
    "R = np.array([\n",
    "    [np.cos(theta), -np.sin(theta), 0],\n",
    "    [np.sin(theta), np.cos(theta), 0],\n",
    "    [0.01, 0, 1]\n",
    "])\n",
    "# 画像のサイズ（幅、高さ）\n",
    "height, width = image.shape[:2]\n",
    "\n",
    "# 画像の変換\n",
    "transformed_img = cv2.warpPerspective(image, R, (width, height))\n",
    "plt.subplot(121)\n",
    "plt.imshow(image, cmap=\"gray\")\n",
    "plt.subplot(122)\n",
    "plt.imshow(transformed_img,cmap=\"gray\")\n",
    "plt.show()"
   ]
  },
  {
   "cell_type": "code",
   "execution_count": null,
   "metadata": {},
   "outputs": [],
   "source": []
  }
 ],
 "metadata": {
  "kernelspec": {
   "display_name": "vivim",
   "language": "python",
   "name": "python3"
  },
  "language_info": {
   "codemirror_mode": {
    "name": "ipython",
    "version": 3
   },
   "file_extension": ".py",
   "mimetype": "text/x-python",
   "name": "python",
   "nbconvert_exporter": "python",
   "pygments_lexer": "ipython3",
   "version": "3.10.14"
  }
 },
 "nbformat": 4,
 "nbformat_minor": 2
}
